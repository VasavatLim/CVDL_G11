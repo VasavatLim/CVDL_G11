{
 "cells": [
  {
   "cell_type": "markdown",
   "metadata": {},
   "source": [
    "# 🔥 Guide to Optimizing Model Performance\n",
    "This guide explains how to optimize hyperparameters for better model performance.\n",
    "We'll cover key hyperparameters, how they affect training, and the best strategies for tuning them."
   ]
  },
  {
   "cell_type": "markdown",
   "metadata": {},
   "source": [
    "## 🔹 1. Key Hyperparameters to Tune\n",
    "| **Hyperparameter**      | **Effect on Model** | **Recommended Values** |\n",
    "|-------------------------|--------------------|-------------------------|\n",
    "| **Learning Rate (lr)**  | Too high: unstable training, Too low: slow convergence | `1e-4` to `1e-1` (log scale) |\n",
    "| **Batch Size**          | Large: stable but slow, Small: fast but noisy | `16, 32, 64` |\n",
    "| **Optimizer**           | Controls weight updates | `'SGD', 'Adam', 'AdamW'` |\n",
    "| **Dropout Rate**        | Prevents overfitting | `0.0 to 0.5` |\n",
    "| **CNN Filter Size**     | Affects feature extraction | `16, 32, 64` |\n",
    "| **Weight Decay**        | Regularization | `1e-5 to 1e-2` |\n",
    "| **Learning Rate Scheduler** | Dynamically adjusts learning rate | `'StepLR', 'ReduceLROnPlateau'` |\n",
    "| **Epochs**             | More epochs allow better training but risk overfitting | `5 to 50` |"
   ]
  },
  {
   "cell_type": "markdown",
   "metadata": {},
   "source": [
    "## 🔹 2. How to Adjust Each Hyperparameter\n",
    "### **Learning Rate (`lr`)**\n",
    "- **Too high (`> 0.1`)** → Model diverges.\n",
    "- **Too low (`< 1e-4`)** → Model learns too slowly.\n",
    "- **Best range:** `1e-4` to `1e-1`\n",
    "\n",
    "### **Batch Size (`batch_size`)**\n",
    "- **Smaller (`16`)** → Faster but noisy.\n",
    "- **Larger (`64`)** → Slower but stable.\n",
    "- **Default:** `32`\n",
    "\n",
    "### **Optimizer (`optimizer`)**\n",
    "- **SGD** → Slower but generalizes well.\n",
    "- **Adam** → Faster but may overfit.\n",
    "- **AdamW** → Fixes Adam's weight decay issues.\n",
    "\n",
    "### **Dropout Rate (`dropout`)**\n",
    "- Increase if overfitting.\n",
    "- Decrease if underfitting.\n",
    "- Default: `0.3`.\n"
   ]
  },
  {
   "cell_type": "markdown",
   "metadata": {},
   "source": [
    "## 🔹 3. Best Strategies for Tuning\n",
    "### **Option 1: Manual Tuning**\n",
    "```python\n",
    "lr = 0.01\n",
    "batch_size = 32\n",
    "optimizer = 'Adam'\n",
    "dropout = 0.3\n",
    "num_filters = 32\n",
    "weight_decay = 1e-4\n",
    "scheduler = 'StepLR'\n",
    "epochs = 10\n",
    "```\n",
    "\n",
    "### **Option 2: Optuna (Automated Tuning)**\n",
    "```python\n",
    "!pip install optuna\n",
    "import optuna\n",
    "\n",
    "study = optuna.create_study(direction='minimize')\n",
    "study.optimize(objective, n_trials=20)\n",
    "print(study.best_params)\n",
    "```"
   ]
  },
  {
   "cell_type": "markdown",
   "metadata": {},
   "source": [
    "## 🔹 4. Tracking Progress\n",
    "✅ **Use TensorBoard:**\n",
    "```bash\n",
    "tensorboard --logdir=runs\n",
    "```\n",
    "✅ **Adjust settings based on validation loss and accuracy.**\n"
   ]
  }
 ],
 "metadata": {
  "kernelspec": {
   "display_name": "Python 3",
   "language": "python",
   "name": "python3"
  },
  "language_info": {
   "codemirror_mode": {
    "name": "ipython",
    "version": 3
   },
   "file_extension": ".py",
   "mimetype": "text/x-python",
   "name": "python",
   "nbconvert_exporter": "python",
   "pygments_lexer": "ipython3",
   "version": "3.8.10"
  }
 },
 "nbformat": 4,
 "nbformat_minor": 4
}
